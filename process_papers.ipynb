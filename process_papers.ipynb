{
 "cells": [
  {
   "cell_type": "code",
   "execution_count": 50,
   "metadata": {},
   "outputs": [],
   "source": [
    "with open(\"README.md\", \"r\") as f:\n",
    "    readme_file = f.readlines()"
   ]
  },
  {
   "cell_type": "code",
   "execution_count": 51,
   "metadata": {},
   "outputs": [],
   "source": [
    "import re\n",
    "\n",
    "def extract_markdown_links(markdown_text):\n",
    "    # Regular expression for matching markdown links\n",
    "    regex = r'\\[([^\\]]+)\\]\\(([^)]+)\\)'\n",
    "    \n",
    "    # Find all matches in the markdown_text\n",
    "    matches = re.findall(regex, markdown_text)\n",
    "    \n",
    "    # Each match is a tuple (link_text, url)\n",
    "    links = [{'content': match[0], 'url': match[1]} for match in matches]\n",
    "    \n",
    "    return links\n",
    "\n",
    "# # Example usage\n",
    "# markdown_text = \"This is a [link to Google](https://www.google.com) and here is a [link to OpenAI](https://www.openai.com).\"\n",
    "# links = extract_markdown_links(markdown_text)\n",
    "# print(links)"
   ]
  },
  {
   "cell_type": "code",
   "execution_count": 52,
   "metadata": {},
   "outputs": [],
   "source": [
    "import bibtexparser\n",
    "with open(\"autobib.bib\") as bibtex_file:\n",
    "    bib_database = bibtexparser.load(bibtex_file)"
   ]
  },
  {
   "cell_type": "code",
   "execution_count": 53,
   "metadata": {},
   "outputs": [],
   "source": [
    "entries = bib_database.entries\n",
    "title_to_entry = {entry['title'].lower().replace(\"\\n\", \" \"): entry for entry in entries}"
   ]
  },
  {
   "cell_type": "code",
   "execution_count": 55,
   "metadata": {},
   "outputs": [
    {
     "name": "stdout",
     "output_type": "stream",
     "text": [
      "Awesome LLM-Safety\n",
      "EasyJailbreak: A Unified Framework for Jailbreaking Large Language Models\n",
      "TrojLLM: A Black-box Trojan Prompt Attack on Large Language Models\n",
      "It's a Fair Game or Is It? Examining How Users Navigate Disclosure Risks and Benefits When Using LLM-Based Conversational Agents\n",
      "Walking a Tightrope \\u9225?Evaluating Large Language Models in High-Risk Domains\n"
     ]
    }
   ],
   "source": [
    "new_lines = []\n",
    "\n",
    "for _line in readme_file:\n",
    "    if '](htt' in _line:\n",
    "        # process paper with more info\n",
    "        _link = extract_markdown_links(_line)[0]\n",
    "        _title = _link['content']\n",
    "        _paper_url = _link['url']\n",
    "        _entry = title_to_entry.get(_title.lower(), None)\n",
    "        if _entry is not None:\n",
    "            _lines = [\n",
    "                f\"- **{_entry['title']}** \\[[Paper]({_paper_url})\\] <br />\\n\",\n",
    "                f\"{_entry['author']} ({_entry['year']})<br />\\n\",\n",
    "            ]\n",
    "        else:\n",
    "            _lines = [\n",
    "                f\"- **{_title}** \\[[Paper]({_paper_url})\\] <br />\\n\",\n",
    "                f\"Unknown author (Unknown year)<br />\\n\",\n",
    "            ]\n",
    "            print(_title)\n",
    "        new_lines.extend(_lines)\n",
    "    else:\n",
    "        new_lines.append(_line)"
   ]
  },
  {
   "cell_type": "code",
   "execution_count": 56,
   "metadata": {},
   "outputs": [],
   "source": [
    "with open(\"NEW_README.md\", \"w\") as file:\n",
    "    file.writelines(new_lines)"
   ]
  },
  {
   "cell_type": "code",
   "execution_count": null,
   "metadata": {},
   "outputs": [],
   "source": []
  },
  {
   "cell_type": "code",
   "execution_count": null,
   "metadata": {},
   "outputs": [],
   "source": []
  }
 ],
 "metadata": {
  "kernelspec": {
   "display_name": "factcheck",
   "language": "python",
   "name": "python3"
  },
  "language_info": {
   "codemirror_mode": {
    "name": "ipython",
    "version": 3
   },
   "file_extension": ".py",
   "mimetype": "text/x-python",
   "name": "python",
   "nbconvert_exporter": "python",
   "pygments_lexer": "ipython3",
   "version": "3.9.18"
  }
 },
 "nbformat": 4,
 "nbformat_minor": 2
}
